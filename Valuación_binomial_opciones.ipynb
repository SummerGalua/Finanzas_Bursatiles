{
 "cells": [
  {
   "cell_type": "code",
   "execution_count": 3,
   "id": "1d31cbe2",
   "metadata": {},
   "outputs": [],
   "source": [
    "import numpy as np"
   ]
  },
  {
   "cell_type": "code",
   "execution_count": null,
   "id": "e3c76927",
   "metadata": {},
   "outputs": [],
   "source": [
    "def Option_binomial(\n",
    "    S0, K, r, sigma, N, is_call=True, exercise_dates=None\n",
    "):\n",
    "    \"\"\"\n",
    "    El código Evalúa una opción tipo Bermuda con un modelo binomial.\n",
    "\n",
    "    Parámetros:\n",
    "    - S0: precio inicial del subyacente\n",
    "    - K: strike\n",
    "    - r: tasa libre de riesgo anual\n",
    "    - sigma: volatilidad anual\n",
    "    - N: Días de evaluación\n",
    "    - is_call: True si es call, False si es put\n",
    "    - exercise_dates: lista de pasos (0...N) donde se permite ejercer la opción en caso de ser de tipo bermuda, \n",
    "                      si la lista contiene todos los días el resultado será la evaluación de una opción americana, \n",
    "                      y si no se agregan días (), se obtiene la valuación de una opción europea.\n",
    "    \"\"\"\n",
    "    dt = 1/365\n",
    "    u = np.exp(sigma * np.sqrt(dt))\n",
    "    d = 1 / u\n",
    "    r = np.log(1+r*N/360)*(365/N) # Composición continua\n",
    "    p = (np.exp(r * dt) - d) / (u - d)\n",
    "    discount = np.exp(-r * dt)\n",
    "\n",
    "    # Inicializa árboles\n",
    "    stock_tree = np.zeros((N + 1, N + 1))\n",
    "    option_tree = np.zeros((N + 1, N + 1))\n",
    "\n",
    "    # Llenar árbol de precios del subyacente\n",
    "    for i in range(N + 1):\n",
    "        for j in range(i + 1):\n",
    "            stock_tree[j, i] = S0 * (u ** (i - j)) * (d ** j)\n",
    "\n",
    "    # Valor terminal\n",
    "    if is_call:\n",
    "        option_tree[:, N] = np.maximum(stock_tree[:, N] - K, 0)\n",
    "    else:\n",
    "        option_tree[:, N] = np.maximum(K - stock_tree[:, N], 0)\n",
    "\n",
    "    # Si no se pasan fechas, se comporta como opción europea\n",
    "    if exercise_dates is None:\n",
    "        exercise_dates = [N]\n",
    "\n",
    "    # propagación hacia atrás\n",
    "    for i in range(N - 1, -1, -1):\n",
    "        for j in range(i + 1):\n",
    "            continuation = discount * (\n",
    "                p * option_tree[j, i + 1] + (1 - p) * option_tree[j + 1, i + 1]\n",
    "            )\n",
    "            if i in exercise_dates:\n",
    "                intrinsic = max(\n",
    "                    stock_tree[j, i] - K, 0\n",
    "                ) if is_call else max(K - stock_tree[j, i], 0)\n",
    "                option_tree[j, i] = max(continuation, intrinsic)\n",
    "            else:\n",
    "                option_tree[j, i] = continuation\n",
    "\n",
    "    return option_tree[0, 0]"
   ]
  },
  {
   "cell_type": "code",
   "execution_count": null,
   "id": "0d0ab9a8",
   "metadata": {},
   "outputs": [
    {
     "name": "stdout",
     "output_type": "stream",
     "text": [
      "Valor de la opción Bermuda call: 5.6699\n"
     ]
    }
   ],
   "source": [
    "# Parámetros de la opción call\n",
    "S0 = 44.36      # Precio inicial del subyacente\n",
    "K = 41.25       # Strike\n",
    "r = 0.08565002  # Tasa libre de riesgo anual   \n",
    "sigma = 0.33823359     # Volatilidad anual\n",
    "N = 112         # Pasos del árbol binomial\n",
    "is_call = True  # Call\n",
    "\n",
    "# Fechas de ejercicio permitidas \n",
    "exercise_steps = np.linspace(28,112,4)\n",
    "\n",
    "# Valuación\n",
    "precio = Option_binomial(S0, K, r, sigma, N, is_call = True, exercise_dates = exercise_steps)\n",
    "print(f\"Valor de la opción Bermuda call: {precio:.4f}\")"
   ]
  },
  {
   "cell_type": "code",
   "execution_count": null,
   "id": "4311e00d",
   "metadata": {},
   "outputs": [
    {
     "name": "stdout",
     "output_type": "stream",
     "text": [
      "Valor de la opción Bermuda put: 4.0184\n"
     ]
    }
   ],
   "source": [
    "# Parámetros de la opción put\n",
    "S0 = 44.36      # Precio inicial del subyacente\n",
    "K = 46.58     # Strike\n",
    "r = 0.08565002  # Tasa libre de riesgo anual\n",
    "sigma = 0.33823359     # Volatilidad anual\n",
    "N = 112         # Pasos del árbol binomial\n",
    "is_call = True  # Call\n",
    "\n",
    "# Fechas de ejercicio permitidas (por ejemplo, cada trimestre)\n",
    "exercise_steps = np.linspace(28,112,4)\n",
    "\n",
    "# Valuación\n",
    "precio = Option_binomial(S0, K, r, sigma, N, is_call = False, exercise_dates= exercise_steps)\n",
    "print(f\"Valor de la opción Bermuda put: {precio:.4f}\")"
   ]
  }
 ],
 "metadata": {
  "kernelspec": {
   "display_name": "Python 3",
   "language": "python",
   "name": "python3"
  },
  "language_info": {
   "codemirror_mode": {
    "name": "ipython",
    "version": 3
   },
   "file_extension": ".py",
   "mimetype": "text/x-python",
   "name": "python",
   "nbconvert_exporter": "python",
   "pygments_lexer": "ipython3",
   "version": "3.12.10"
  }
 },
 "nbformat": 4,
 "nbformat_minor": 5
}
